import unittest
from main import Bandit

class TestBandit(unittest.TestCase):
    def setUp(self):
        self.bandit = Bandit()

if __name__ == '__main__':
    unittest.main()
def test_init_success_ratio(self):
    bandit = Bandit()
    self.assertEqual(bandit.success_ratio, 0, "Initial success_ratio should be 0")
def test_epsilon_greedy_full_exploitation(self):
    bandits = [Bandit(p=0.5) for _ in range(10)]
    epsilon_greedy(bandits, 10000, epsilon=0)
    expected_success_ratio = sum([bandit.p for bandit in bandits]) / len(bandits)
    actual_success_ratio = sum([bandit.success_ratio for bandit in bandits]) / len(bandits)
    self.assertAlmostEqual(expected_success_ratio, actual_success_ratio, places=2)
def test_epsilon_greedy_full_exploration(self):
    bandits = [Bandit(p=0.5) for _ in range(10)]
    epsilon_greedy(bandits, 10000, epsilon=1)
    expected_success_ratio = sum([bandit.p for bandit in bandits]) / len(bandits)
    actual_success_ratio = sum([bandit.success_ratio for bandit in bandits]) / len(bandits)
    self.assertAlmostEqual(expected_success_ratio, actual_success_ratio, places=2)