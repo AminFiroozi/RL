{
 "cells": [
  {
   "cell_type": "markdown",
   "metadata": {},
   "source": [
    "## Import necessary libraries"
   ]
  },
  {
   "cell_type": "code",
   "execution_count": 99,
   "metadata": {},
   "outputs": [],
   "source": [
    "import numpy as np\n",
    "import random\n",
    "import math\n",
    "import matplotlib.pyplot as plt"
   ]
  },
  {
   "cell_type": "markdown",
   "metadata": {},
   "source": [
    "## Set Options"
   ]
  },
  {
   "cell_type": "code",
   "execution_count": 100,
   "metadata": {},
   "outputs": [],
   "source": [
    "np.set_printoptions(suppress=True)"
   ]
  },
  {
   "cell_type": "markdown",
   "metadata": {},
   "source": [
    "## Make Bandit Class"
   ]
  },
  {
   "cell_type": "code",
   "execution_count": 101,
   "metadata": {},
   "outputs": [],
   "source": [
    "class Bandit:\n",
    "    def __init__(self, p=None):\n",
    "        self.p = p if p else random.random()\n",
    "        self.times_succeeded = 0\n",
    "        self.times_chosen = 1\n",
    "        self.success_ratio = 0\n",
    "    \n",
    "    def choose(self):\n",
    "        self.times_chosen += 1\n",
    "        result = random.random() < self.p\n",
    "        if result:\n",
    "            self.times_succeeded += 1\n",
    "        \n",
    "        self.success_ratio = self.times_succeeded / self.times_chosen\n",
    "        return result\n",
    "    \n",
    "    def reset(self):\n",
    "        self.times_succeeded = 0\n",
    "        self.times_chosen = 1\n",
    "        self.success_ratio = 0"
   ]
  },
  {
   "cell_type": "markdown",
   "metadata": {},
   "source": [
    "## Constant variables"
   ]
  },
  {
   "cell_type": "code",
   "execution_count": 102,
   "metadata": {},
   "outputs": [],
   "source": [
    "BANDITS = 10\n",
    "bandits = [Bandit() for _ in range(BANDITS)]"
   ]
  },
  {
   "cell_type": "markdown",
   "metadata": {},
   "source": [
    "## Implementation of ucb"
   ]
  },
  {
   "cell_type": "code",
   "execution_count": 103,
   "metadata": {},
   "outputs": [],
   "source": [
    "def ucb(bandits, n, plot=False):\n",
    "    diff = [sum([bandit.times_succeeded / bandit.times_chosen for bandit in bandits])]\n",
    "    total_times = sum([bandit.times_chosen for bandit in bandits])\n",
    "    for t in range(n):\n",
    "        values = [bandit.success_ratio + np.sqrt((2*np.log(total_times))/(bandit.times_chosen)) for bandit in bandits]\n",
    "        chosen = values.index(max(values))\n",
    "        bandits[chosen].choose()\n",
    "        diff.append(sum([bandit.times_succeeded / bandit.times_chosen for bandit in bandits]))\n",
    "    if plot:\n",
    "        plt.xlabel(\"iterations\")\n",
    "        plt.ylabel(\"difference until perfection\")\n",
    "        diff = diff[1:]\n",
    "        plt.plot(range(len(diff)), diff, label='ucb', color='red', linewidth=1)\n",
    "    return diff"
   ]
  },
  {
   "cell_type": "code",
   "execution_count": 104,
   "metadata": {},
   "outputs": [
    {
     "name": "stdout",
     "output_type": "stream",
     "text": [
      "3.8291230428323013 3.754493519803683\n"
     ]
    },
    {
     "data": {
      "image/png": "[encoded data removed]",
      "text/plain": [
       "<Figure size 640x480 with 1 Axes>"
      ]
     },
     "metadata": {},
     "output_type": "display_data"
    }
   ],
   "source": [
    "rewards = ucb(bandits, 100000, True)\n",
    "print(max(rewards), rewards[-1])"
   ]
  },
  {
   "cell_type": "code",
   "execution_count": 105,
   "metadata": {},
   "outputs": [
    {
     "name": "stdout",
     "output_type": "stream",
     "text": [
      "Chosen: 621       , Succeeded: 521       , Expected: 0.8612603232147479  , Experimented: 0.8389694041867954  , Difference: 0.02229091902795244 \n",
      "Chosen: 6         , Succeeded: 0         , Expected: 0.005618822256981737, Experimented: 0.0                 , Difference: 0.005618822256981737\n",
      "Chosen: 98909     , Succeeded: 90829     , Expected: 0.9183493457378175  , Experimented: 0.9183087484455409  , Difference: 4.059729227656739e-05\n",
      "Chosen: 6         , Succeeded: 0         , Expected: 0.021822341049455574, Experimented: 0.0                 , Difference: 0.021822341049455574\n",
      "Chosen: 6         , Succeeded: 0         , Expected: 0.30202183548126127 , Experimented: 0.0                 , Difference: 0.30202183548126127 \n",
      "Chosen: 58        , Succeeded: 37        , Expected: 0.6556968721539844  , Experimented: 0.6379310344827587  , Difference: 0.017765837671225748\n",
      "Chosen: 6         , Succeeded: 0         , Expected: 0.04666725075915634 , Experimented: 0.0                 , Difference: 0.04666725075915634 \n",
      "Chosen: 11        , Succeeded: 3         , Expected: 0.2864117330906025  , Experimented: 0.2727272727272727  , Difference: 0.01368446036332982 \n",
      "Chosen: 11        , Succeeded: 3         , Expected: 0.14828387077794125 , Experimented: 0.2727272727272727  , Difference: 0.12444340194933146 \n",
      "Chosen: 376       , Succeeded: 306       , Expected: 0.7894358709166118  , Experimented: 0.8138297872340425  , Difference: 0.02439391631743071 \n",
      "\n",
      "Wins: 91699      / 100010              \n",
      "Wins: 91844      / 100010    \n",
      "How close you got to the best result: %99.84\n"
     ]
    }
   ],
   "source": [
    "for bandit in bandits:\n",
    "    print(f\"Chosen: {str(bandit.times_chosen).ljust(10)}, Succeeded: {str(bandit.times_succeeded).ljust(10)}, Expected: {str(bandit.p).ljust(20)}, Experimented: {str(bandit.success_ratio).ljust(20)}, Difference: {str(abs(bandit.p - bandit.success_ratio)).ljust(20)}\")\n",
    "    \n",
    "print(f\"\\nWins: {str(sum([bandit.times_succeeded for bandit in bandits])).ljust(10)} / {str(sum([bandit.times_chosen for bandit in bandits])).ljust(20)}\")\n",
    "print(f\"Wins: {str(int(sorted(bandits, key=lambda x: x.success_ratio, reverse=True)[0].p * sum([bandit.times_chosen for bandit in bandits]))).ljust(10)} / {str(sum([bandit.times_chosen for bandit in bandits])).ljust(10)}\")\n",
    "print(f\"How close you got to the best result: %{((sum([bandit.times_succeeded for bandit in bandits]) / (sorted(bandits, key=lambda x: x.success_ratio, reverse=True)[0].p * sum([bandit.times_chosen for bandit in bandits]))) * 100):.2f}\")"
   ]
  },
  {
   "cell_type": "markdown",
   "metadata": {},
   "source": [
    "## Results\n",
    "- As we can see the results are so perfect"
   ]
  }
 ],
 "metadata": {
  "kernelspec": {
   "display_name": "Python 3",
   "language": "python",
   "name": "python3"
  },
  "language_info": {
   "codemirror_mode": {
    "name": "ipython",
    "version": 3
   },
   "file_extension": ".py",
   "mimetype": "text/x-python",
   "name": "python",
   "nbconvert_exporter": "python",
   "pygments_lexer": "ipython3",
   "version": "3.11.1"
  }
 },
 "nbformat": 4,
 "nbformat_minor": 2
}
