{
 "cells": [
  {
   "cell_type": "markdown",
   "metadata": {},
   "source": [
    "## Import necessary libraries"
   ]
  },
  {
   "cell_type": "code",
   "execution_count": 301,
   "metadata": {},
   "outputs": [],
   "source": [
    "import numpy as np\n",
    "import random\n",
    "import math\n",
    "import matplotlib.pyplot as plt"
   ]
  },
  {
   "cell_type": "markdown",
   "metadata": {},
   "source": [
    "## Set Options"
   ]
  },
  {
   "cell_type": "code",
   "execution_count": 302,
   "metadata": {},
   "outputs": [],
   "source": [
    "np.set_printoptions(suppress=True)"
   ]
  },
  {
   "cell_type": "markdown",
   "metadata": {},
   "source": [
    "## Make Bandit Class"
   ]
  },
  {
   "cell_type": "code",
   "execution_count": 303,
   "metadata": {},
   "outputs": [],
   "source": [
    "class Bandit:\n",
    "    def __init__(self, p=None):\n",
    "        self.p = p if p else random.random()\n",
    "        self.times_succeeded = 0\n",
    "        self.times_chosen = 0\n",
    "        self.success_ratio = 0\n",
    "    \n",
    "    def choose(self):\n",
    "        self.times_chosen += 1\n",
    "        result = random.random() < self.p\n",
    "        if result:\n",
    "            self.times_succeeded += 1\n",
    "        \n",
    "        self.success_ratio = self.times_succeeded / self.times_chosen\n",
    "        return result\n",
    "    \n",
    "    def reset(self):\n",
    "        self.times_succeeded = 0\n",
    "        self.times_chosen = 0\n",
    "        self.success_ratio = 0"
   ]
  },
  {
   "cell_type": "markdown",
   "metadata": {},
   "source": [
    "## Constant variables"
   ]
  },
  {
   "cell_type": "code",
   "execution_count": 304,
   "metadata": {},
   "outputs": [],
   "source": [
    "BANDITS = 10\n",
    "bandits = [Bandit() for _ in range(BANDITS)]"
   ]
  },
  {
   "cell_type": "markdown",
   "metadata": {},
   "source": [
    "## Implementation of ucb"
   ]
  },
  {
   "cell_type": "code",
   "execution_count": 305,
   "metadata": {},
   "outputs": [],
   "source": [
    "def ucb(bandits, n, init_epsilon):\n",
    "    for bandit in bandits:\n",
    "        bandit.choose()\n",
    "    # bandit.success_ratio + np.sqrt(2*)"
   ]
  }
 ],
 "metadata": {
  "kernelspec": {
   "display_name": "Python 3",
   "language": "python",
   "name": "python3"
  },
  "language_info": {
   "codemirror_mode": {
    "name": "ipython",
    "version": 3
   },
   "file_extension": ".py",
   "mimetype": "text/x-python",
   "name": "python",
   "nbconvert_exporter": "python",
   "pygments_lexer": "ipython3",
   "version": "3.11.1"
  }
 },
 "nbformat": 4,
 "nbformat_minor": 2
}
